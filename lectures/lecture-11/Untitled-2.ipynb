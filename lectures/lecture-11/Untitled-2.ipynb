{
 "cells": [
  {
   "cell_type": "code",
   "execution_count": 27,
   "metadata": {},
   "outputs": [
    {
     "name": "stdout",
     "output_type": "stream",
     "text": [
      "Index(['mpg', 'cylinders', 'displacement', 'horsepower', 'weight',\n",
      "       'acceleration', 'vehicle_id'],\n",
      "      dtype='object')\n",
      "      mpg  cylinders  displacement horsepower  weight  acceleration vehicle_id\n",
      "28    9.0          8           304        193    4732          18.5  H-1690088\n",
      "25   10.0          8           360        215    4615          14.0  F-1690055\n",
      "26   10.0          8           307        200    4376          15.0  C-1690066\n",
      "103  11.0          8           400        150    4997          14.0  C-1690913\n",
      "124  11.0          8           350        180    3664          11.0  O-1691144\n"
     ]
    },
    {
     "ename": "SyntaxError",
     "evalue": "invalid syntax (<unknown>, line 1)",
     "output_type": "error",
     "traceback": [
      "Traceback \u001b[1;36m(most recent call last)\u001b[0m:\n",
      "\u001b[0m  File \u001b[0;32mc:\\Users\\L\\anaconda3 new\\Lib\\site-packages\\IPython\\core\\interactiveshell.py:3577\u001b[0m in \u001b[0;35mrun_code\u001b[0m\n    exec(code_obj, self.user_global_ns, self.user_ns)\u001b[0m\n",
      "\u001b[0m  Cell \u001b[0;32mIn[27], line 29\u001b[0m\n    carfeatures.query(\"(acceleration >= 10) and \")\u001b[0m\n",
      "\u001b[0m  File \u001b[0;32mc:\\Users\\L\\anaconda3 new\\Lib\\site-packages\\pandas\\core\\frame.py:4823\u001b[0m in \u001b[0;35mquery\u001b[0m\n    res = self.eval(expr, **kwargs)\u001b[0m\n",
      "\u001b[0m  File \u001b[0;32mc:\\Users\\L\\anaconda3 new\\Lib\\site-packages\\pandas\\core\\frame.py:4949\u001b[0m in \u001b[0;35meval\u001b[0m\n    return _eval(expr, inplace=inplace, **kwargs)\u001b[0m\n",
      "\u001b[0m  File \u001b[0;32mc:\\Users\\L\\anaconda3 new\\Lib\\site-packages\\pandas\\core\\computation\\eval.py:336\u001b[0m in \u001b[0;35meval\u001b[0m\n    parsed_expr = Expr(expr, engine=engine, parser=parser, env=env)\u001b[0m\n",
      "\u001b[0m  File \u001b[0;32mc:\\Users\\L\\anaconda3 new\\Lib\\site-packages\\pandas\\core\\computation\\expr.py:809\u001b[0m in \u001b[0;35m__init__\u001b[0m\n    self.terms = self.parse()\u001b[0m\n",
      "\u001b[0m  File \u001b[0;32mc:\\Users\\L\\anaconda3 new\\Lib\\site-packages\\pandas\\core\\computation\\expr.py:828\u001b[0m in \u001b[0;35mparse\u001b[0m\n    return self._visitor.visit(self.expr)\u001b[0m\n",
      "\u001b[0m  File \u001b[0;32mc:\\Users\\L\\anaconda3 new\\Lib\\site-packages\\pandas\\core\\computation\\expr.py:408\u001b[0m in \u001b[0;35mvisit\u001b[0m\n    raise e\u001b[0m\n",
      "\u001b[0m  File \u001b[0;32mc:\\Users\\L\\anaconda3 new\\Lib\\site-packages\\pandas\\core\\computation\\expr.py:404\u001b[0m in \u001b[0;35mvisit\u001b[0m\n    node = ast.fix_missing_locations(ast.parse(clean))\u001b[0m\n",
      "\u001b[1;36m  File \u001b[1;32mc:\\Users\\L\\anaconda3 new\\Lib\\ast.py:52\u001b[1;36m in \u001b[1;35mparse\u001b[1;36m\n\u001b[1;33m    return compile(source, filename, mode, flags,\u001b[1;36m\n",
      "\u001b[1;36m  File \u001b[1;32m<unknown>:1\u001b[1;36m\u001b[0m\n\u001b[1;33m    (acceleration >=10 )and\u001b[0m\n\u001b[1;37m                            ^\u001b[0m\n\u001b[1;31mSyntaxError\u001b[0m\u001b[1;31m:\u001b[0m invalid syntax\n"
     ]
    }
   ],
   "source": [
    "import pandas as pd\n",
    "\n",
    "def clean_data(df):\n",
    "    # Filter rows based on column: 'cylinders'\n",
    "    df = df[df['cylinders'] >= 6]\n",
    "    # Filter rows based on columns: 'cylinders', 'acceleration', 'mpg'\n",
    "    df = df[(df['cylinders'] >= 6) & (df['acceleration'] <= 15) & (df['mpg'] <= 12)]\n",
    "    return df\n",
    "\n",
    "# Loaded variable 'df' from URI: c:\\Users\\L\\Documents\\GitHub\\qtm151\\lectures\\lecture-11\\data_raw\\features.csv\n",
    "df = pd.read_csv(r'c:\\Users\\L\\Documents\\GitHub\\qtm151\\lectures\\lecture-11\\data_raw\\features.csv')\n",
    "\n",
    "df_clean = clean_data(df.copy())\n",
    "df_clean.head()\n",
    "\n",
    "carfeatures = df\n",
    "\n",
    "car_colnames = carfeatures.columns\n",
    "print(carfeatures.columns)\n",
    "\n",
    "carfeatures[[\"weight\",\"acceleration\"]]\n",
    "carfeatures.iloc[:,[0,1,2]]\n",
    "\n",
    "car_ascendingmpg = carfeatures.sort_values(by = \"mpg\", ascending = True)\n",
    "car1=car_ascendingmpg.head(5)\n",
    "print(car1)\n",
    "\n",
    "carfeatures.query(\"cylinders > 6 & acceleration < 15 & mpg < 12\")"
   ]
  }
 ],
 "metadata": {
  "kernelspec": {
   "display_name": "Python 3",
   "language": "python",
   "name": "python3"
  },
  "language_info": {
   "codemirror_mode": {
    "name": "ipython",
    "version": 3
   },
   "file_extension": ".py",
   "mimetype": "text/x-python",
   "name": "python",
   "nbconvert_exporter": "python",
   "pygments_lexer": "ipython3",
   "version": "3.12.4"
  }
 },
 "nbformat": 4,
 "nbformat_minor": 2
}
