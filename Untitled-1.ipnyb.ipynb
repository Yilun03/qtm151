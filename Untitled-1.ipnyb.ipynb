{
 "cells": [
  {
   "cell_type": "markdown",
   "metadata": {},
   "source": [
    "Python101"
   ]
  },
  {
   "cell_type": "markdown",
   "metadata": {},
   "source": [
    "Bug and how to debug\n",
    "1. use python debug\n",
    "2. set up breaking point to check\n",
    "3. usual bug: syntaxError, indentationError, NameError"
   ]
  },
  {
   "cell_type": "code",
   "execution_count": 9,
   "metadata": {},
   "outputs": [
    {
     "ename": "NameError",
     "evalue": "name 'sa' is not defined",
     "output_type": "error",
     "traceback": [
      "\u001b[1;31m---------------------------------------------------------------------------\u001b[0m",
      "\u001b[1;31mNameError\u001b[0m                                 Traceback (most recent call last)",
      "Cell \u001b[1;32mIn[9], line 10\u001b[0m\n\u001b[0;32m      1\u001b[0m \u001b[38;5;66;03m#任何错误地点，都会被下划线标红\u001b[39;00m\n\u001b[0;32m      2\u001b[0m \u001b[38;5;66;03m#1, syntaxError:语法错误。不符合python语法逻辑，标注为语法错误\u001b[39;00m\n\u001b[0;32m      3\u001b[0m \u001b[38;5;66;03m#print(\"dsa) 漏写引号\u001b[39;00m\n\u001b[1;32m   (...)\u001b[0m\n\u001b[0;32m      8\u001b[0m \n\u001b[0;32m      9\u001b[0m \u001b[38;5;66;03m#3，NameError: 命名错误。函数未被定义，或者字母与字符号没加引号，未被定义，报错。\u001b[39;00m\n\u001b[1;32m---> 10\u001b[0m \u001b[38;5;28mprint\u001b[39m(sa)\n",
      "\u001b[1;31mNameError\u001b[0m: name 'sa' is not defined"
     ]
    }
   ],
   "source": [
    "#任何错误地点，都会被下划线标红\n",
    "#1, syntaxError:语法错误。不符合python语法逻辑，标注为语法错误\n",
    "#print(\"dsa) 漏写引号\n",
    "#print(1)print(2) 两行连在一起\n",
    "\n",
    "#2, indentationError: 缩进错误。python是一门严格要求缩进的语言，function需要顶格。部分需要空四格子。\n",
    "#    print(1) 空四格，缩进错误\n",
    "\n",
    "#3，NameError: 命名错误。函数未被定义，或者字母与字符号没加引号，未被定义，报错。\n",
    "#print(sa); prin(1) 均有值未被定义\n"
   ]
  },
  {
   "cell_type": "markdown",
   "metadata": {},
   "source": [
    "Breaking point"
   ]
  },
  {
   "cell_type": "code",
   "execution_count": 2,
   "metadata": {},
   "outputs": [
    {
     "ename": "SyntaxError",
     "evalue": "invalid syntax (574607590.py, line 4)",
     "output_type": "error",
     "traceback": [
      "\u001b[1;36m  Cell \u001b[1;32mIn[2], line 4\u001b[1;36m\u001b[0m\n\u001b[1;33m    print(raise)\u001b[0m\n\u001b[1;37m          ^\u001b[0m\n\u001b[1;31mSyntaxError\u001b[0m\u001b[1;31m:\u001b[0m invalid syntax\n"
     ]
    }
   ],
   "source": [
    "print(1)\n",
    "print(1)\n",
    "print(1)\n",
    "print(raise)\n",
    "print(1)\n",
    "print(1)\n",
    "print(1)"
   ]
  },
  {
   "cell_type": "markdown",
   "metadata": {},
   "source": [
    "注释：\n",
    "-增强代码的可读性"
   ]
  },
  {
   "cell_type": "code",
   "execution_count": 4,
   "metadata": {},
   "outputs": [
    {
     "name": "stdout",
     "output_type": "stream",
     "text": [
      "1\n"
     ]
    }
   ],
   "source": [
    "#注释可以放在任何位置\n",
    "print(1) #注释可以放在任何位置\n",
    "#注释可以放在任何位置\n",
    "\n",
    "#\"\"\" \n",
    "# 多行注释\n",
    "# 可以分行\n",
    "#三引号打法：shift+alt+a\n",
    "# \"\"\""
   ]
  },
  {
   "cell_type": "markdown",
   "metadata": {},
   "source": [
    "快捷键："
   ]
  },
  {
   "cell_type": "code",
   "execution_count": 6,
   "metadata": {},
   "outputs": [
    {
     "name": "stdout",
     "output_type": "stream",
     "text": [
      "321\n"
     ]
    }
   ],
   "source": [
    "# ctrl+/ 添加注释，或把整行代码变成注释。也可以取消注释\n",
    "# ctrl+z 撤销上一步行为"
   ]
  },
  {
   "cell_type": "markdown",
   "metadata": {},
   "source": [
    "输出函数：\n",
    "1. print(*values, sep, end)\n",
    "2. *values: 值,一次性输出多个，多个时用逗号个开来。\n",
    "3. sep: 用来隔开多个对象，默认值是一个空格\n",
    "4. end: 用来设定什么结尾，默认值是\\n，可以换成其它字符"
   ]
  },
  {
   "cell_type": "code",
   "execution_count": 8,
   "metadata": {},
   "outputs": [
    {
     "name": "stdout",
     "output_type": "stream",
     "text": [
      "1 2 3\n",
      "1,2,3\n",
      "a,b,c\n",
      "d,e,f\n",
      "1 2 3 4 5 6\n"
     ]
    }
   ],
   "source": [
    "# 用逗号将多个值隔开，sep默认是空格，end默认是/n\n",
    "print(1,2,3)\n",
    "#通过设定sep的值，更改结果中sep的表现形式\n",
    "print(1,2,3, sep=\",\")\n",
    "#通过设定end的值，改变结果与结果中间的间隔方式\n",
    "print(\"a,b,c\")\n",
    "print(\"d,e,f\") #不设定end时，默认为\\n换行呈现\n",
    "\n",
    "print(1,2,3, end=\" \")\n",
    "print(4,5,6) #设定end为空格后，end用空格连接了\n"
   ]
  },
  {
   "cell_type": "markdown",
   "metadata": {},
   "source": [
    "变量（variable）：\n",
    "1. 变量用来存储数据\n",
    "2. 使用变量前要赋值\n"
   ]
  },
  {
   "cell_type": "code",
   "execution_count": 11,
   "metadata": {},
   "outputs": [
    {
     "name": "stdout",
     "output_type": "stream",
     "text": [
      "8\n"
     ]
    }
   ],
   "source": [
    "#变量的运用\n",
    "price_cola = 3 #将“price_cola”赋值为3\n",
    "price_chips = 5 #同理\n",
    "price_total = price_cola + price_chips #将\"price_total\"赋值为两者相加。\n",
    "print(price_total) #此时，print的是variable“price_total”,而非字符串"
   ]
  },
  {
   "cell_type": "code",
   "execution_count": 13,
   "metadata": {},
   "outputs": [
    {
     "name": "stdout",
     "output_type": "stream",
     "text": [
      "1\n",
      "1\n",
      "2\n",
      "1\n",
      "2\n"
     ]
    }
   ],
   "source": [
    "#变量被创建后，后续修改会在原数据内进行\n",
    "a=1 #赋值a为1\n",
    "print(a) #打印a\n",
    "b = a #赋值b为a，a变量的值被b变量存储。註意，此时b变量被新建，并不是将a替换为b\n",
    "print(b) #打印b，给出a的值\n",
    "a = 2 #此时将a的值改为2，由于python按照程序顺序运行，先前打印的值会按照先前赋值运行。\n",
    "print(a) #修改后打印，得出结果为修改后变量的值\n",
    "print(b) #？为什么b没有跟着变成“2”呢？\n",
    "\n",
    "#之前提到的，b只是被赋予了先前a的值，a的修改不会导致b的变化。需要再次将b赋予新的a值才可以。\n",
    "\n",
    "b = a\n",
    "print(b)"
   ]
  },
  {
   "cell_type": "markdown",
   "metadata": {},
   "source": [
    "作为变量名称的标识符"
   ]
  },
  {
   "cell_type": "code",
   "execution_count": 38,
   "metadata": {},
   "outputs": [
    {
     "ename": "SyntaxError",
     "evalue": "cannot assign to False (2196693942.py, line 8)",
     "output_type": "error",
     "traceback": [
      "\u001b[1;36m  Cell \u001b[1;32mIn[38], line 8\u001b[1;36m\u001b[0m\n\u001b[1;33m    False = 1\u001b[0m\n\u001b[1;37m    ^\u001b[0m\n\u001b[1;31mSyntaxError\u001b[0m\u001b[1;31m:\u001b[0m cannot assign to False\n"
     ]
    }
   ],
   "source": [
    "#变量中不能空格，不能用数字开头\n",
    "#1u=1, a b=1 不行\n",
    "\n",
    "(uiux)= 2 #括号可以用来命名\n",
    "print(uiux) #print时不需要再加括号也能识别。\n",
    "\n",
    "#不能用python关键字命名：False，if，ifelse等\n",
    "# False = 1"
   ]
  },
  {
   "cell_type": "markdown",
   "metadata": {},
   "source": [
    "变量的命名规范"
   ]
  },
  {
   "cell_type": "code",
   "execution_count": 39,
   "metadata": {},
   "outputs": [],
   "source": [
    "#见名知义\n",
    "food = \"pizza\" #看见变量名就能知道值的大致含义\n",
    "#下划线分割法\n",
    "income_per_person = 1000\n",
    "#大驼峰, 每个词的首字母大写\n",
    "IncomePerPerson = 2000\n",
    "#小驼峰，第一个词组首字母小写，之后的每一个首字母大写\n",
    "incomePerPerson= 3000\n"
   ]
  },
  {
   "cell_type": "markdown",
   "metadata": {},
   "source": [
    "数值类型：\n",
    "1. variable = a; a的类型被称为数值类型 “type”\n",
    "2. 类型有，int整数型，float浮点型，bool布尔型，complex复数型，str字符串型"
   ]
  },
  {
   "cell_type": "code",
   "execution_count": 52,
   "metadata": {},
   "outputs": [
    {
     "name": "stdout",
     "output_type": "stream",
     "text": [
      "<class 'int'>\n",
      "<class 'float'>\n",
      "<class 'bool'>\n",
      "1\n",
      "0\n",
      "<class 'complex'>\n",
      "(3+5j)\n"
     ]
    }
   ],
   "source": [
    "#用type()检查值的类型\n",
    "a=1\n",
    "print(type(a)) #int\n",
    "b=1.5 \n",
    "print(type(b)) #float\n",
    "c = True #bool为固定值，True，False\n",
    "print(type(c)) #bool\n",
    "\n",
    "#bool值中，True为1，False为0\n",
    "print(True + 0)\n",
    "print(False + 0)\n",
    "\n",
    "#complex的用法\n",
    "print(type(1+2j)) #1是实部，2j是虚部。j是虚数单位，关键字\n",
    "a = 1+2j\n",
    "b = 2+3j\n",
    "print(a+b) #实部加实部（1+2），虚部加虚部（2+3）"
   ]
  },
  {
   "cell_type": "markdown",
   "metadata": {},
   "source": [
    "格式化输出：占位符"
   ]
  },
  {
   "cell_type": "code",
   "execution_count": 22,
   "metadata": {},
   "outputs": [
    {
     "name": "stdout",
     "output_type": "stream",
     "text": [
      "may name is:Yilun\n",
      "I dont want Yilun I want Allen\n",
      "my position is:1\n",
      "my name is: Yilun, position: 1\n",
      "I am the 1's one whose name is Yilun\n",
      " 123\n",
      "1.123400\n",
      "1.1234\n",
      "1.123400\n",
      "my name is %yilun%\n",
      "my name is Yilun, position: 123\n"
     ]
    }
   ],
   "source": [
    "# %s，用于字符串占位\n",
    "name = \"Yilun\" \n",
    "print(\"may name is:%s\" % name)\n",
    "print(\"I dont want %s\" % name,\"I want Allen\")\n",
    "# %d，用于整数占位\n",
    "num = 1\n",
    "print(\"my position is:%d\" % num)\n",
    "print(\"my name is: %s, position: %d\" % (name, num)) #同时打印两个变量。name是str，所以%s。用逗号隔开。num是int，所以%d\n",
    "print(\"I am the %d's one whose name is %s\" % (num, name))\n",
    "\n",
    "num1 = 123\n",
    "print(\"%4d\" % num1) #设置数字位数为4，num1是三位数，所以缺的一位前面用空格补全\n",
    "\n",
    "#%f，用于小数占位\n",
    "num2 = 1.1234\n",
    "print(\"%f\" % num2) #默认6位小数\n",
    "print(\"%.4f\" % num2) #设置小数位数为4，保留4位\n",
    "#设置小数位要百分号加点，不然没用\n",
    "print(\"%4f\" % num2)\n",
    "#所有小数位保留采取四舍五入制\n",
    "\n",
    "#%%\n",
    "print(\"my name is %%yilun%%\" % ())\n",
    "\n",
    "#(重点) f格式化输出\n",
    "print(f\"my name is {name}, position: {num1}\") #前面加f，里面要带入的变量部分{variable}"
   ]
  }
 ],
 "metadata": {
  "kernelspec": {
   "display_name": "base",
   "language": "python",
   "name": "python3"
  },
  "language_info": {
   "codemirror_mode": {
    "name": "ipython",
    "version": 3
   },
   "file_extension": ".py",
   "mimetype": "text/x-python",
   "name": "python",
   "nbconvert_exporter": "python",
   "pygments_lexer": "ipython3",
   "version": "3.12.4"
  }
 },
 "nbformat": 4,
 "nbformat_minor": 2
}
